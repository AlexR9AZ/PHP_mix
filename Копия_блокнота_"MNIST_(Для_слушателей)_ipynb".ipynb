{
  "nbformat": 4,
  "nbformat_minor": 0,
  "metadata": {
    "colab": {
      "name": "Копия блокнота \"MNIST (Для слушателей).ipynb\"",
      "provenance": [],
      "collapsed_sections": [],
      "include_colab_link": true
    },
    "kernelspec": {
      "name": "python3",
      "display_name": "Python 3"
    },
    "language_info": {
      "name": "python"
    },
    "accelerator": "GPU"
  },
  "cells": [
    {
      "cell_type": "markdown",
      "metadata": {
        "id": "view-in-github",
        "colab_type": "text"
      },
      "source": [
        "<a href=\"https://colab.research.google.com/github/AlexR9AZ/PHP_mix/blob/main/%D0%9A%D0%BE%D0%BF%D0%B8%D1%8F_%D0%B1%D0%BB%D0%BE%D0%BA%D0%BD%D0%BE%D1%82%D0%B0_%22MNIST_(%D0%94%D0%BB%D1%8F_%D1%81%D0%BB%D1%83%D1%88%D0%B0%D1%82%D0%B5%D0%BB%D0%B5%D0%B9)_ipynb%22.ipynb\" target=\"_parent\"><img src=\"https://colab.research.google.com/assets/colab-badge.svg\" alt=\"Open In Colab\"/></a>"
      ]
    },
    {
      "cell_type": "markdown",
      "metadata": {
        "id": "wBeylXZaS2Q3"
      },
      "source": [
        "# MNIST"
      ]
    },
    {
      "cell_type": "markdown",
      "metadata": {
        "id": "lVNZ7iSZXOJr"
      },
      "source": [
        "В этом ноутбуке мы с вами будем работать с датасетом [MNIST](https://www.kaggle.com/c/digit-recognizer/overview) (\"Modified National Institute of Standards and Technology\"), который можно назвать аналогом \"hello world\" в сфере компьютерного зрения. MNIST был выпущен в 1999 году, но до сих пор остается отличным датасетом для проверки того или иного алгоритма классификации.\n",
        "\n",
        "В MNIST содержатся изображения рукописных цифр (от 0 до 9), поэтому зачастую на этом датасете решают задачу классификации на 10 классов."
      ]
    },
    {
      "cell_type": "markdown",
      "metadata": {
        "id": "4b2obMaKKlLd"
      },
      "source": [
        "![322448624391041207621621115622008535397.png](data:image/png;base64,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)"
      ]
    },
    {
      "cell_type": "markdown",
      "metadata": {
        "id": "TYAz1GxeTEKM"
      },
      "source": [
        "#План действий\n",
        "\n",
        "1. Импортируем все необходимые библиотеки и функции для работы над нашей задачей. В библиотеках языка программирования Python содержатся необходимые программы для анализа и визуализации данных. Таким образом, мы можем не \"изобретать велосипед\" и не писать все программы и функции с нуля, а воспользоваться уже готовыми решениями;\n",
        "\n",
        "2. Загрузим данные MNIST и познакомимся с Kaggle;\n",
        "\n",
        "3. Визуализируем данные, чтобы познакомиться с ними. Визуализация - очень важный этап предварительной работы над любой Data Science задачей;\n",
        "\n",
        "4. Подготовим наши данные к подаче в нейронную сеть;\n",
        "\n",
        "5. Обучим нейронную сеть;\n",
        "\n",
        "6. Посмотрим, насколько качественно наша нейронная сеть классифицирует картинки;\n",
        "\n",
        "7. Подумаем, что можно сделать для улучшения качества нашей модели.\n",
        "\n",
        "**Как определить качество полученной модели?**\n",
        "\n",
        "Для этого используются **метрики машинного обучения** - показатели, определяющие качество работы того или иного алгоритма машинного обучения (модели) на определенной задаче машинного обучения.\n",
        "\n",
        "В данном случае наша задача машинного обучения - многоклассовая классификация на датасете MNIST, а алгоритм машинного обучения - сверточная нейронная сеть.\n",
        "\n",
        "Так как мы решаем задачу классификации, то можем использовать такую метрику, как **accuracy**. Эта метрика **показывает общую точность нашей модели по всем имеющимся классам. Ее можно расчитать как отношение количества правильных прогнозов к их общему количеству**.\n",
        "Accuracy принимает значение от 0 до 1. Чем большее значение принимает эта метрика, тем лучше! \n",
        "\n",
        "Пример: возьмем 9 картинок из датасета MNIST(см. картинку выше) \n",
        "\n",
        "Предположим, наша нейросеть правильно  распознала все цифры с этих картинок, кроме цифры 5 - она перепутала ее с тройкой. Тогда Accuracy нашей модели равен 8/9 (8 правильных распознанных цифр на 9 всех цифр в нашей выборке) или 0.88\n",
        "А если все цифры будут распознаны верно, то accuracy равен 1. \n",
        "\n",
        "\n",
        "Таким образом, с помощью метрик машинного обучения Data Scientists понимают, насколько качественно работает та или иная модель. Также метрики используются для сравнения моделей между собой."
      ]
    },
    {
      "cell_type": "markdown",
      "metadata": {
        "id": "L2yB-eehXJ3p"
      },
      "source": [
        "# Imports"
      ]
    },
    {
      "cell_type": "markdown",
      "metadata": {
        "id": "lQx7VAcBS38c"
      },
      "source": [
        "Импортируем все библиотеки/функции, которые мы будем использовать в этом ноутбуке. Таким образом, наш код будет выглядеть гораздо чище."
      ]
    },
    {
      "cell_type": "code",
      "metadata": {
        "id": "g8kVN2-kS3Z_"
      },
      "source": [
        "import os # системная библиотека, позволяющая работать с переменными среды\n",
        "import pandas as pd # библиотека для работы с табличными данными\n",
        "import numpy as np # библиотека с множеством математических функций\n",
        "import matplotlib.pyplot as plt # библиотека для визуализации данных\n",
        "import seaborn as sns # библиотека для визуализации данных\n",
        "\n",
        "%matplotlib inline"
      ],
      "execution_count": null,
      "outputs": []
    },
    {
      "cell_type": "code",
      "metadata": {
        "id": "d5yQmKP8dD8f"
      },
      "source": [
        "import keras # фреймворк для работы с нейронными сетями\n",
        "from keras.models import Sequential\n",
        "from keras.layers import Dense, Dropout, Flatten, Conv2D, MaxPool2D\n",
        "from keras.preprocessing.image import ImageDataGenerator\n",
        "from keras.callbacks import ReduceLROnPlateau \n",
        "from sklearn.model_selection import train_test_split # функция \"разбиения\" выборки на train и test\n",
        "import tensorflow as tf # фреймворк для работы с нейронными сетями"
      ],
      "execution_count": null,
      "outputs": []
    },
    {
      "cell_type": "markdown",
      "metadata": {
        "id": "9iVh8Zn1TGL2"
      },
      "source": [
        "# Выгрузка данных с платформы Kaggle"
      ]
    },
    {
      "cell_type": "markdown",
      "metadata": {
        "id": "PPWDBtW5uMkq"
      },
      "source": [
        "[Kaggle](https://kaggle.com) — это сообщество специалистов по Data Science. Здесь можно изучать машинное обучение, писать свои и разбирать чужие прогнозные модели, участвовать в соревнованиях и общаться с дата-сайентистами. Сервис полностью бесплатен."
      ]
    },
    {
      "cell_type": "code",
      "metadata": {
        "id": "JDRO7wD6TK8t"
      },
      "source": [
        "os.environ['KAGGLE_USERNAME'] = \"soncaajp\"\n",
        "os.environ['KAGGLE_KEY'] = \"3db4428f01c9696a8be1c7bc067de50b\""
      ],
      "execution_count": null,
      "outputs": []
    },
    {
      "cell_type": "code",
      "metadata": {
        "colab": {
          "base_uri": "https://localhost:8080/"
        },
        "id": "TcZLjqEUTYoN",
        "outputId": "523de1c8-d4ff-4e94-fcd9-b704c3b9e158"
      },
      "source": [
        "! kaggle competitions download -c digit-recognizer"
      ],
      "execution_count": null,
      "outputs": [
        {
          "output_type": "stream",
          "name": "stdout",
          "text": [
            "Warning: Looks like you're using an outdated API Version, please consider updating (server 1.5.12 / client 1.5.4)\n",
            "Downloading train.csv.zip to /content\n",
            " 55% 5.00M/9.16M [00:00<00:00, 15.0MB/s]\n",
            "100% 9.16M/9.16M [00:00<00:00, 23.2MB/s]\n",
            "Downloading test.csv.zip to /content\n",
            " 82% 5.00M/6.09M [00:00<00:00, 15.7MB/s]\n",
            "100% 6.09M/6.09M [00:00<00:00, 17.5MB/s]\n",
            "Downloading sample_submission.csv to /content\n",
            "  0% 0.00/235k [00:00<?, ?B/s]\n",
            "100% 235k/235k [00:00<00:00, 108MB/s]\n"
          ]
        }
      ]
    },
    {
      "cell_type": "markdown",
      "metadata": {
        "id": "ZKIdSpw3U65o"
      },
      "source": [
        "# Визуализация датасета"
      ]
    },
    {
      "cell_type": "code",
      "metadata": {
        "id": "3VU8DZYqUTAm"
      },
      "source": [
        "train = pd.read_csv('train.csv.zip')\n",
        "test = pd.read_csv('test.csv.zip')"
      ],
      "execution_count": null,
      "outputs": []
    },
    {
      "cell_type": "code",
      "metadata": {
        "colab": {
          "base_uri": "https://localhost:8080/"
        },
        "id": "5uFfYQS6jq4g",
        "outputId": "db9174f6-68a0-43b0-d12a-c84e4f50ea47"
      },
      "source": [
        "train.info()"
      ],
      "execution_count": null,
      "outputs": [
        {
          "output_type": "stream",
          "name": "stdout",
          "text": [
            "<class 'pandas.core.frame.DataFrame'>\n",
            "RangeIndex: 42000 entries, 0 to 41999\n",
            "Columns: 785 entries, label to pixel783\n",
            "dtypes: int64(785)\n",
            "memory usage: 251.5 MB\n"
          ]
        }
      ]
    },
    {
      "cell_type": "code",
      "metadata": {
        "colab": {
          "base_uri": "https://localhost:8080/"
        },
        "id": "yB5kGHP3Uefj",
        "outputId": "f424eb3f-0783-4964-9844-b1b2db692656"
      },
      "source": [
        "print('В тренировочной выборке {0} картинок.'.format(train.shape[0]))\n",
        "print('В тестовой выборке {0} картинок.'.format(test.shape[0]))"
      ],
      "execution_count": null,
      "outputs": [
        {
          "output_type": "stream",
          "name": "stdout",
          "text": [
            "В тренировочной выборке 42000 картинок.\n",
            "В тестовой выборке 28000 картинок.\n"
          ]
        }
      ]
    },
    {
      "cell_type": "markdown",
      "metadata": {
        "id": "rq-OBpA9VvE3"
      },
      "source": [
        "Проверим баланс классов. В машинном обучении важно, чтобы классы были сбалансированы (кол-во объектов разных классов было примерно одинаковым). В противном случае алгоритм может научиться угадывать только один из классов (класс большинство). "
      ]
    },
    {
      "cell_type": "code",
      "metadata": {
        "colab": {
          "base_uri": "https://localhost:8080/",
          "height": 350
        },
        "id": "MVXbH13xVZWd",
        "outputId": "c4898cdb-55d2-4b9f-9aed-69fca4c15842"
      },
      "source": [
        "sns.countplot(train['label'])"
      ],
      "execution_count": null,
      "outputs": [
        {
          "output_type": "stream",
          "name": "stderr",
          "text": [
            "/usr/local/lib/python3.7/dist-packages/seaborn/_decorators.py:43: FutureWarning: Pass the following variable as a keyword arg: x. From version 0.12, the only valid positional argument will be `data`, and passing other arguments without an explicit keyword will result in an error or misinterpretation.\n",
            "  FutureWarning\n"
          ]
        },
        {
          "output_type": "execute_result",
          "data": {
            "text/plain": [
              "<matplotlib.axes._subplots.AxesSubplot at 0x7fa8cddef390>"
            ]
          },
          "metadata": {},
          "execution_count": 8
        },
        {
          "output_type": "display_data",
          "data": {
            "image/png": "[encoded data removed]",
            "text/plain": [
              "<Figure size 432x288 with 1 Axes>"
            ]
          },
          "metadata": {
            "needs_background": "light"
          }
        }
      ]
    },
    {
      "cell_type": "markdown",
      "metadata": {
        "id": "S2wNOX4VX5Ta"
      },
      "source": [
        "Визуализируем картинки из train части датасета."
      ]
    },
    {
      "cell_type": "code",
      "metadata": {
        "id": "flhneUw9ZtQ9"
      },
      "source": [
        "X_train = (train.drop(['label'], axis = 1).values).astype('float32')\n",
        "y_train = (train.label.values).astype('int32')\n",
        "X_test = (test.values).astype('float32')"
      ],
      "execution_count": null,
      "outputs": []
    },
    {
      "cell_type": "code",
      "metadata": {
        "colab": {
          "base_uri": "https://localhost:8080/"
        },
        "id": "tVw9YyVJk8Qx",
        "outputId": "a43a6040-5498-4013-e801-e7e983a5cdd4"
      },
      "source": [
        "X_test"
      ],
      "execution_count": null,
      "outputs": [
        {
          "output_type": "execute_result",
          "data": {
            "text/plain": [
              "array([[0., 0., 0., ..., 0., 0., 0.],\n",
              "       [0., 0., 0., ..., 0., 0., 0.],\n",
              "       [0., 0., 0., ..., 0., 0., 0.],\n",
              "       ...,\n",
              "       [0., 0., 0., ..., 0., 0., 0.],\n",
              "       [0., 0., 0., ..., 0., 0., 0.],\n",
              "       [0., 0., 0., ..., 0., 0., 0.]], dtype=float32)"
            ]
          },
          "metadata": {},
          "execution_count": 10
        }
      ]
    },
    {
      "cell_type": "code",
      "metadata": {
        "colab": {
          "base_uri": "https://localhost:8080/",
          "height": 533
        },
        "id": "9zJnn70iV23K",
        "outputId": "2080126b-680a-4f04-e290-d8ca422a69a5"
      },
      "source": [
        "plt.figure(figsize=(12,10))\n",
        "x, y = 10, 4\n",
        "for i in range(40):  \n",
        "    plt.subplot(y, x, i+1)\n",
        "    plt.imshow(X_train[i].reshape((28,28)),interpolation='nearest')\n",
        "plt.show()"
      ],
      "execution_count": null,
      "outputs": [
        {
          "output_type": "display_data",
          "data": {
            "image/png": "[encoded data removed]",
            "text/plain": [
              "<Figure size 864x720 with 40 Axes>"
            ]
          },
          "metadata": {
            "needs_background": "light"
          }
        }
      ]
    },
    {
      "cell_type": "markdown",
      "metadata": {
        "id": "cofwSlZ8a4ei"
      },
      "source": [
        "# Подготовим данные для нейронной сети\n"
      ]
    },
    {
      "cell_type": "code",
      "metadata": {
        "id": "j3hSMJyPZoWo"
      },
      "source": [
        "X_train = X_train / 255.0\n",
        "X_test = X_test / 255.0"
      ],
      "execution_count": null,
      "outputs": []
    },
    {
      "cell_type": "code",
      "metadata": {
        "id": "ZfVX9WT8bH3h"
      },
      "source": [
        "X_train = X_train.reshape(X_train.shape[0], 28, 28, 1)\n",
        "X_test = X_test.reshape(X_test.shape[0], 28, 28,1)"
      ],
      "execution_count": null,
      "outputs": []
    },
    {
      "cell_type": "code",
      "metadata": {
        "colab": {
          "base_uri": "https://localhost:8080/"
        },
        "id": "zkiVfH5OdwUB",
        "outputId": "cfcc6f77-32c5-4ead-ea44-9b4c4a221c13"
      },
      "source": [
        "X_train.shape[0]"
      ],
      "execution_count": null,
      "outputs": [
        {
          "output_type": "execute_result",
          "data": {
            "text/plain": [
              "42000"
            ]
          },
          "metadata": {},
          "execution_count": 14
        }
      ]
    },
    {
      "cell_type": "markdown",
      "metadata": {
        "id": "9sPc2W7tc-2K"
      },
      "source": [
        "# Создадим нейронную сеть"
      ]
    },
    {
      "cell_type": "markdown",
      "metadata": {
        "id": "pCuLXY54rXlp"
      },
      "source": [
        "Зададим гиперпараметры."
      ]
    },
    {
      "cell_type": "code",
      "metadata": {
        "id": "b8XHvM9gc4r_"
      },
      "source": [
        "BATCH_SIZE = 64\n",
        "NUM_CLASSES = 10\n",
        "EPOCHS = 10\n",
        "INPUT_SIZE = (28, 28, 1)"
      ],
      "execution_count": null,
      "outputs": []
    },
    {
      "cell_type": "markdown",
      "metadata": {
        "id": "7ywI-uqUrafV"
      },
      "source": [
        "Предобработаем целевую переменную для удобной передачи в сеть."
      ]
    },
    {
      "cell_type": "code",
      "metadata": {
        "id": "L-xwr1fldhG7"
      },
      "source": [
        "y_train = keras.utils.np_utils.to_categorical(y_train, NUM_CLASSES)\n",
        "X_train, X_validation, y_train, y_validation = train_test_split(X_train, y_train, test_size = 0.2, random_state=42)"
      ],
      "execution_count": null,
      "outputs": []
    },
    {
      "cell_type": "markdown",
      "metadata": {
        "id": "jX0b_KlirevA"
      },
      "source": [
        "Создадим архитектуру нейронной сети."
      ]
    },
    {
      "cell_type": "markdown",
      "metadata": {
        "id": "qY2IfCWCUaSR"
      },
      "source": [
        ""
      ]
    },
    {
      "cell_type": "markdown",
      "metadata": {
        "id": "UgXfg--OOifv"
      },
      "source": [
        "Вспомним презентацию. В сверточные сети обычно имеют следующую структуру:\n",
        "\n",
        "*   Сверточный слой Conv\n",
        "*   Сверточный слой Conv\n",
        "*   Pooling слой\n",
        "*   Полносвязный слой Dense\n",
        "*   Dropout \n",
        "*   Полносвязный слой Dense"
      ]
    },
    {
      "cell_type": "code",
      "metadata": {
        "id": "zvFqX3zZdqIM"
      },
      "source": [
        "model = Sequential()\n",
        "\n",
        "#conv-conv-pool блок это 1 сверточный блок. Обычно их ТРИ, увеличение кол-ва слове не всегда выражается в увеличении качества, но всегда увеличивает время обучения\n",
        "model.add(Conv2D(filters = 32, kernel_size =(5,5), padding = \"same\", activation = \"relu\", input_shape = (28, 28, 1)))# выделяем 32 признака, хотя мона и 8 64  \n",
        "# от размера kernel_size =(5,5) зависит какую область будем рассматривать на наличие того или иного паттерна\n",
        "#padding = \"same\" параметр, который позволит нам сохранять размерность изображения одинаковой до свертки и после свертки\n",
        "# activation = \"relu\" нужна для того, чтобы наша нейронка вообще обучалась и значительно отличалась от линейной модели\n",
        "# обычно в сверточном блоке этих сверток две (поэтому повтоярем строку, но без input_shape)\n",
        "model.add(Conv2D(filters = 32, kernel_size =(5,5), padding = \"same\", activation = \"relu\"))\n",
        "model.add(MaxPool2D(pool_size =(2,2)))# понижаем размерность нашего изображения в два раза\n",
        "model.add(Dropout(0.25))\n",
        "\n",
        "#-----------2 блок----------копируем из верхнего и меняем число filters-----------------------------------------------------------------------------\n",
        "#хотелось бы выделять больше низкоуровневых признаков поэтому делаем filters 64\n",
        "model.add(Conv2D(filters = 64, kernel_size =(5,5), padding = \"same\", activation = \"relu\", input_shape = (28, 28, 1)))\n",
        "model.add(Conv2D(filters = 64, kernel_size =(5,5), padding = \"same\", activation = \"relu\"))\n",
        "model.add(MaxPool2D(pool_size =(2,2)))\n",
        "model.add(Dropout(0.25))\n",
        "\n",
        "#-----------3 блок----------копируем из верхнего и меняем число filters-----------------------------------------------------------------------------\n",
        "#хотелось бы выделять больше низкоуровневых признаков поэтому делаем filters 128\n",
        "model.add(Conv2D(filters = 128, kernel_size =(5,5), padding = \"same\", activation = \"relu\", input_shape = (28, 28, 1)))\n",
        "model.add(Conv2D(filters = 128, kernel_size =(5,5), padding = \"same\", activation = \"relu\"))\n",
        "model.add(MaxPool2D(pool_size =(2,2)))\n",
        "model.add(Dropout(0.25))\n",
        "\n",
        "\n",
        "# Теперь подадим эти признаки в нейронную сеть, которая и предскажет тот или иной класс\n",
        "#Голова сети\n",
        "model.add(Flatten())\n",
        "model.add(Dense(256, activation = 'relu'))#полносвязанная НС\n",
        "model.add(Dropout(0.5))\n",
        "model.add(Dense(10, activation = 'softmax'))"
      ],
      "execution_count": null,
      "outputs": []
    },
    {
      "cell_type": "markdown",
      "metadata": {
        "id": "5iRh1_gkWeFa"
      },
      "source": [
        ""
      ]
    },
    {
      "cell_type": "code",
      "metadata": {
        "id": "6oV5ZH55WeiP"
      },
      "source": [
        ""
      ],
      "execution_count": null,
      "outputs": []
    },
    {
      "cell_type": "markdown",
      "metadata": {
        "id": "YtqKDYcrrili"
      },
      "source": [
        "Скопмилируем модель."
      ]
    },
    {
      "cell_type": "code",
      "metadata": {
        "id": "ILXntG7afdn9"
      },
      "source": [
        "model.compile(loss = keras.losses.categorical_crossentropy,\n",
        "              optimizer = tf.keras.optimizers.RMSprop(),\n",
        "              metrics = ['accuracy'])"
      ],
      "execution_count": null,
      "outputs": []
    },
    {
      "cell_type": "markdown",
      "metadata": {
        "id": "OPrjWAWqrl4M"
      },
      "source": [
        "Добавим advanced технику для работы с learning rate."
      ]
    },
    {
      "cell_type": "code",
      "metadata": {
        "id": "evKf84hqqZZ1"
      },
      "source": [
        "reduce_on_plateau = ReduceLROnPlateau(monitor='val_acc', \n",
        "                                            patience=3, \n",
        "                                            verbose=1, \n",
        "                                            factor=0.5, \n",
        "                                            min_lr=0.0001)"
      ],
      "execution_count": null,
      "outputs": []
    },
    {
      "cell_type": "code",
      "metadata": {
        "colab": {
          "base_uri": "https://localhost:8080/"
        },
        "id": "jaRWrV84rAFc",
        "outputId": "8953d9cc-6d56-4a61-b9b8-fd9c5c771eb1"
      },
      "source": [
        "# текстовое представление нейронной сети (послойное отображение)\n",
        "model.summary()"
      ],
      "execution_count": null,
      "outputs": [
        {
          "output_type": "stream",
          "name": "stdout",
          "text": [
            "Model: \"sequential\"\n",
            "_________________________________________________________________\n",
            "Layer (type)                 Output Shape              Param #   \n",
            "=================================================================\n",
            "conv2d (Conv2D)              (None, 28, 28, 32)        832       \n",
            "_________________________________________________________________\n",
            "conv2d_1 (Conv2D)            (None, 28, 28, 32)        25632     \n",
            "_________________________________________________________________\n",
            "max_pooling2d (MaxPooling2D) (None, 14, 14, 32)        0         \n",
            "_________________________________________________________________\n",
            "dropout (Dropout)            (None, 14, 14, 32)        0         \n",
            "_________________________________________________________________\n",
            "conv2d_2 (Conv2D)            (None, 14, 14, 64)        51264     \n",
            "_________________________________________________________________\n",
            "conv2d_3 (Conv2D)            (None, 14, 14, 64)        102464    \n",
            "_________________________________________________________________\n",
            "max_pooling2d_1 (MaxPooling2 (None, 7, 7, 64)          0         \n",
            "_________________________________________________________________\n",
            "dropout_1 (Dropout)          (None, 7, 7, 64)          0         \n",
            "_________________________________________________________________\n",
            "conv2d_4 (Conv2D)            (None, 7, 7, 128)         204928    \n",
            "_________________________________________________________________\n",
            "conv2d_5 (Conv2D)            (None, 7, 7, 128)         409728    \n",
            "_________________________________________________________________\n",
            "max_pooling2d_2 (MaxPooling2 (None, 3, 3, 128)         0         \n",
            "_________________________________________________________________\n",
            "dropout_2 (Dropout)          (None, 3, 3, 128)         0         \n",
            "_________________________________________________________________\n",
            "flatten (Flatten)            (None, 1152)              0         \n",
            "_________________________________________________________________\n",
            "dense (Dense)                (None, 256)               295168    \n",
            "_________________________________________________________________\n",
            "dropout_3 (Dropout)          (None, 256)               0         \n",
            "_________________________________________________________________\n",
            "dense_1 (Dense)              (None, 10)                2570      \n",
            "=================================================================\n",
            "Total params: 1,092,586\n",
            "Trainable params: 1,092,586\n",
            "Non-trainable params: 0\n",
            "_________________________________________________________________\n"
          ]
        }
      ]
    },
    {
      "cell_type": "markdown",
      "metadata": {
        "id": "ZT6_sv9TYIQo"
      },
      "source": [
        "# Обучим сеть"
      ]
    },
    {
      "cell_type": "code",
      "metadata": {
        "id": "TVSHrcYrrMxe"
      },
      "source": [
        "datagen = ImageDataGenerator()"
      ],
      "execution_count": null,
      "outputs": []
    },
    {
      "cell_type": "code",
      "metadata": {
        "colab": {
          "base_uri": "https://localhost:8080/"
        },
        "id": "hImQphWcr1zj",
        "outputId": "6e7c63f3-87f2-458a-8f5d-c594846bcb62"
      },
      "source": [
        "datagen.fit(X_train)\n",
        "h = model.fit_generator(datagen.flow(X_train,y_train, batch_size = BATCH_SIZE),\n",
        "                        epochs = EPOCHS, \n",
        "                        validation_data = (X_validation, y_validation),\n",
        "                        verbose = 1, \n",
        "                        steps_per_epoch = X_train.shape[0] // BATCH_SIZE, \n",
        "                        callbacks=[reduce_on_plateau])"
      ],
      "execution_count": null,
      "outputs": [
        {
          "output_type": "stream",
          "name": "stderr",
          "text": [
            "/usr/local/lib/python3.7/dist-packages/keras/engine/training.py:1972: UserWarning: `Model.fit_generator` is deprecated and will be removed in a future version. Please use `Model.fit`, which supports generators.\n",
            "  warnings.warn('`Model.fit_generator` is deprecated and '\n"
          ]
        },
        {
          "output_type": "stream",
          "name": "stdout",
          "text": [
            "Epoch 1/10\n",
            "525/525 [==============================] - 47s 28ms/step - loss: 0.4736 - accuracy: 0.8418 - val_loss: 0.0841 - val_accuracy: 0.9752\n",
            "WARNING:tensorflow:Learning rate reduction is conditioned on metric `val_acc` which is not available. Available metrics are: loss,accuracy,val_loss,val_accuracy,lr\n",
            "Epoch 2/10\n",
            "525/525 [==============================] - 14s 27ms/step - loss: 0.0793 - accuracy: 0.9788 - val_loss: 0.0675 - val_accuracy: 0.9808\n",
            "WARNING:tensorflow:Learning rate reduction is conditioned on metric `val_acc` which is not available. Available metrics are: loss,accuracy,val_loss,val_accuracy,lr\n",
            "Epoch 3/10\n",
            "525/525 [==============================] - 14s 27ms/step - loss: 0.0602 - accuracy: 0.9843 - val_loss: 0.0812 - val_accuracy: 0.9826\n",
            "WARNING:tensorflow:Learning rate reduction is conditioned on metric `val_acc` which is not available. Available metrics are: loss,accuracy,val_loss,val_accuracy,lr\n",
            "Epoch 4/10\n",
            "525/525 [==============================] - 14s 27ms/step - loss: 0.0583 - accuracy: 0.9861 - val_loss: 0.0633 - val_accuracy: 0.9818\n",
            "WARNING:tensorflow:Learning rate reduction is conditioned on metric `val_acc` which is not available. Available metrics are: loss,accuracy,val_loss,val_accuracy,lr\n",
            "Epoch 5/10\n",
            "525/525 [==============================] - 15s 28ms/step - loss: 0.0547 - accuracy: 0.9866 - val_loss: 0.0468 - val_accuracy: 0.9895\n",
            "WARNING:tensorflow:Learning rate reduction is conditioned on metric `val_acc` which is not available. Available metrics are: loss,accuracy,val_loss,val_accuracy,lr\n",
            "Epoch 6/10\n",
            "525/525 [==============================] - 14s 27ms/step - loss: 0.0567 - accuracy: 0.9878 - val_loss: 0.0390 - val_accuracy: 0.9902\n",
            "WARNING:tensorflow:Learning rate reduction is conditioned on metric `val_acc` which is not available. Available metrics are: loss,accuracy,val_loss,val_accuracy,lr\n",
            "Epoch 7/10\n",
            "525/525 [==============================] - 14s 27ms/step - loss: 0.0543 - accuracy: 0.9880 - val_loss: 0.0456 - val_accuracy: 0.9889\n",
            "WARNING:tensorflow:Learning rate reduction is conditioned on metric `val_acc` which is not available. Available metrics are: loss,accuracy,val_loss,val_accuracy,lr\n",
            "Epoch 8/10\n",
            "525/525 [==============================] - 14s 28ms/step - loss: 0.0529 - accuracy: 0.9888 - val_loss: 0.1196 - val_accuracy: 0.9879\n",
            "WARNING:tensorflow:Learning rate reduction is conditioned on metric `val_acc` which is not available. Available metrics are: loss,accuracy,val_loss,val_accuracy,lr\n",
            "Epoch 9/10\n",
            "525/525 [==============================] - 14s 27ms/step - loss: 0.0568 - accuracy: 0.9879 - val_loss: 0.0554 - val_accuracy: 0.9875\n",
            "WARNING:tensorflow:Learning rate reduction is conditioned on metric `val_acc` which is not available. Available metrics are: loss,accuracy,val_loss,val_accuracy,lr\n",
            "Epoch 10/10\n",
            "525/525 [==============================] - 14s 27ms/step - loss: 0.0716 - accuracy: 0.9883 - val_loss: 0.0617 - val_accuracy: 0.9863\n",
            "WARNING:tensorflow:Learning rate reduction is conditioned on metric `val_acc` which is not available. Available metrics are: loss,accuracy,val_loss,val_accuracy,lr\n"
          ]
        }
      ]
    },
    {
      "cell_type": "code",
      "metadata": {
        "colab": {
          "base_uri": "https://localhost:8080/"
        },
        "id": "X3UqfqhEsRJq",
        "outputId": "90917bff-e485-48bf-a4c9-ff8908638fed"
      },
      "source": [
        "_, final_acc = model.evaluate(X_validation, y_validation, verbose=0)\n",
        "print(\"Финальная accuracy: {0:.6f}\".format(final_acc))"
      ],
      "execution_count": null,
      "outputs": [
        {
          "output_type": "stream",
          "name": "stdout",
          "text": [
            "Финальная accuracy: 0.986310\n"
          ]
        }
      ]
    },
    {
      "cell_type": "markdown",
      "metadata": {
        "id": "fyX9sfJANgJT"
      },
      "source": [
        "Мы получили отличную accuracy. Наша нейронная сеть работает почти идеально."
      ]
    },
    {
      "cell_type": "markdown",
      "metadata": {
        "id": "p9ZFNY2DuERv"
      },
      "source": [
        "#Визуализируем картинки, которые были классифицированы неправильно"
      ]
    },
    {
      "cell_type": "code",
      "metadata": {
        "id": "PNN_kGGLuMlp"
      },
      "source": [
        "Y_pred = model.predict(X_validation)\n",
        "\n",
        "Y_pred_classes = np.argmax(Y_pred, axis = 1) \n",
        "\n",
        "Y_true = np.argmax(y_validation, axis = 1) "
      ],
      "execution_count": null,
      "outputs": []
    },
    {
      "cell_type": "code",
      "metadata": {
        "id": "yH8_-QkruYnF"
      },
      "source": [
        "def display_errors(errors_index, img_errors, pred_errors, obs_errors):\n",
        "    n = 0\n",
        "    nrows = 2\n",
        "    ncols = 3\n",
        "    fig, ax = plt.subplots(nrows, ncols, sharex=True, sharey=True, figsize=(6,6))\n",
        "    for row in range(nrows):\n",
        "        for col in range(ncols):\n",
        "            error = errors_index[n]\n",
        "            ax[row,col].imshow((img_errors[error]).reshape((28,28)))\n",
        "            ax[row,col].set_title(\"Predicted label :{}\\nTrue label :{}\".format(pred_errors[error], obs_errors[error]))\n",
        "            n += 1"
      ],
      "execution_count": null,
      "outputs": []
    },
    {
      "cell_type": "code",
      "metadata": {
        "colab": {
          "base_uri": "https://localhost:8080/",
          "height": 355
        },
        "id": "4SVJ-Ux4t2f7",
        "outputId": "73af0fbe-a15e-44aa-a14e-4b051802f72c"
      },
      "source": [
        "errors = (Y_pred_classes - Y_true != 0)\n",
        "\n",
        "Y_pred_classes_errors = Y_pred_classes[errors]\n",
        "Y_pred_errors = Y_pred[errors]\n",
        "Y_true_errors = Y_true[errors]\n",
        "X_val_errors = X_validation[errors]\n",
        "\n",
        "\n",
        "# Возьмем те картинки, где цифра была предсказана неверно, но модель была уверена в своем предсказании\n",
        "Y_pred_errors_prob = np.max(Y_pred_errors, axis = 1)\n",
        "\n",
        "# Посмотрим, какова была вероятность отнести эти картинки к другому - правильному классу\n",
        "true_prob_errors = np.diagonal(np.take(Y_pred_errors, Y_true_errors, axis=1))\n",
        "\n",
        "# Возьмем разность предсказанной вероятности неверного и истинного класса\n",
        "delta_pred_true_errors = Y_pred_errors_prob - true_prob_errors\n",
        "\n",
        "# Отсортируем полученный список\n",
        "sorted_dela_errors = np.argsort(delta_pred_true_errors)\n",
        "\n",
        "# Возьмем топ 6 наиболее часто встречающихся ошибок\n",
        "most_important_errors = sorted_dela_errors[-6:]\n",
        "\n",
        "\n",
        "display_errors(most_important_errors, X_val_errors, Y_pred_classes_errors, Y_true_errors)\n",
        "# сверху то, что предсказал сеть, а снизу истинный класс"
      ],
      "execution_count": null,
      "outputs": [
        {
          "output_type": "display_data",
          "data": {
            "image/png": "[encoded data removed]",
            "text/plain": [
              "<Figure size 432x432 with 6 Axes>"
            ]
          },
          "metadata": {
            "needs_background": "light"
          }
        }
      ]
    },
    {
      "cell_type": "markdown",
      "metadata": {
        "id": "YJlCPA5bvAsK"
      },
      "source": [
        "#Возможные улучшения"
      ]
    },
    {
      "cell_type": "markdown",
      "metadata": {
        "id": "E9Y2LWhCvD4u"
      },
      "source": [
        "\n",
        "*   Взять предобученную нейронную сеть и дообучить ее под эту задачу\n",
        "*   Использовать композицию из нейронных сетей\n",
        "*   Добавить больше слоев\n"
      ]
    },
    {
      "cell_type": "code",
      "metadata": {
        "colab": {
          "base_uri": "https://localhost:8080/",
          "height": 17
        },
        "id": "oYa3d2MAMDji",
        "outputId": "e9184d03-63f2-4701-d7ab-b8ff540c8e87"
      },
      "source": [
        "#Сохраним на диске данные\n",
        "from google.colab import files\n",
        "test.to_csv('file_name.csv') \n",
        "files.download('file_name.csv')#\n"
      ],
      "execution_count": null,
      "outputs": [
        {
          "output_type": "display_data",
          "data": {
            "application/javascript": [
              "\n",
              "    async function download(id, filename, size) {\n",
              "      if (!google.colab.kernel.accessAllowed) {\n",
              "        return;\n",
              "      }\n",
              "      const div = document.createElement('div');\n",
              "      const label = document.createElement('label');\n",
              "      label.textContent = `Downloading \"${filename}\": `;\n",
              "      div.appendChild(label);\n",
              "      const progress = document.createElement('progress');\n",
              "      progress.max = size;\n",
              "      div.appendChild(progress);\n",
              "      document.body.appendChild(div);\n",
              "\n",
              "      const buffers = [];\n",
              "      let downloaded = 0;\n",
              "\n",
              "      const channel = await google.colab.kernel.comms.open(id);\n",
              "      // Send a message to notify the kernel that we're ready.\n",
              "      channel.send({})\n",
              "\n",
              "      for await (const message of channel.messages) {\n",
              "        // Send a message to notify the kernel that we're ready.\n",
              "        channel.send({})\n",
              "        if (message.buffers) {\n",
              "          for (const buffer of message.buffers) {\n",
              "            buffers.push(buffer);\n",
              "            downloaded += buffer.byteLength;\n",
              "            progress.value = downloaded;\n",
              "          }\n",
              "        }\n",
              "      }\n",
              "      const blob = new Blob(buffers, {type: 'application/binary'});\n",
              "      const a = document.createElement('a');\n",
              "      a.href = window.URL.createObjectURL(blob);\n",
              "      a.download = filename;\n",
              "      div.appendChild(a);\n",
              "      a.click();\n",
              "      div.remove();\n",
              "    }\n",
              "  "
            ],
            "text/plain": [
              "<IPython.core.display.Javascript object>"
            ]
          },
          "metadata": {}
        },
        {
          "output_type": "display_data",
          "data": {
            "application/javascript": [
              "download(\"download_31e955ae-2041-4b0e-9bae-ccf22899b9be\", \"file_name.csv\", 51247186)"
            ],
            "text/plain": [
              "<IPython.core.display.Javascript object>"
            ]
          },
          "metadata": {}
        }
      ]
    }
  ]
}